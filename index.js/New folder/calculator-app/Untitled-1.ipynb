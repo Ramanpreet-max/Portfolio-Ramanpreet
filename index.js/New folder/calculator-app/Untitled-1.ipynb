{
 "cells": [
  {
   "cell_type": "markdown",
   "id": "88f90c52",
   "metadata": {},
   "source": [
    "# Library Management System in Python\n",
    "\n",
    "This notebook demonstrates a simple library management system using Python classes. We'll define classes for books and the library, and implement basic operations such as adding, listing, removing, issuing, and returning books."
   ]
  },
  {
   "cell_type": "markdown",
   "id": "d09adc40",
   "metadata": {},
   "source": [
    "## 1. Define the Book Class\n",
    "\n",
    "We'll start by creating a `Book` class with attributes for book ID, title, author, and issued status. The `__str__` method will help us print book details easily."
   ]
  },
  {
   "cell_type": "code",
   "execution_count": null,
   "id": "c00e86c7",
   "metadata": {},
   "outputs": [],
   "source": [
    "# Book class to store book details\n",
    "class Book:\n",
    "    def __init__(self, book_id, title, author):\n",
    "        self.book_id = book_id\n",
    "        self.title = title\n",
    "        self.author = author\n",
    "        self.is_issued = False\n",
    "\n",
    "    def __str__(self):\n",
    "        status = \"Issued\" if self.is_issued else \"Available\"\n",
    "        return f\"ID: {self.book_id}, Title: {self.title}, Author: {self.author}, Status: {status}\""
   ]
  },
  {
   "cell_type": "markdown",
   "id": "b80fd860",
   "metadata": {},
   "source": [
    "## 2. Define the Library Class\n",
    "\n",
    "Next, we'll define a `Library` class to manage a collection of `Book` objects. This class will have methods to add, list, remove, issue, and return books."
   ]
  },
  {
   "cell_type": "code",
   "execution_count": null,
   "id": "08220011",
   "metadata": {},
   "outputs": [],
   "source": [
    "# Library class to manage books\n",
    "class Library:\n",
    "    def __init__(self):\n",
    "        self.books = []\n",
    "\n",
    "    def add_book(self, book):\n",
    "        self.books.append(book)\n",
    "        print(f\"Book '{book.title}' added.\")\n",
    "\n",
    "    def list_books(self):\n",
    "        if not self.books:\n",
    "            print(\"No books in the library.\")\n",
    "        for book in self.books:\n",
    "            print(book)\n",
    "\n",
    "    def remove_book(self, book_id):\n",
    "        for book in self.books:\n",
    "            if book.book_id == book_id:\n",
    "                self.books.remove(book)\n",
    "                print(f\"Book '{book.title}' removed.\")\n",
    "                return\n",
    "        print(f\"No book found with ID {book_id}.\")\n",
    "\n",
    "    def issue_book(self, book_id):\n",
    "        for book in self.books:\n",
    "            if book.book_id == book_id:\n",
    "                if not book.is_issued:\n",
    "                    book.is_issued = True\n",
    "                    print(f\"Book '{book.title}' has been issued.\")\n",
    "                else:\n",
    "                    print(f\"Book '{book.title}' is already issued.\")\n",
    "                return\n",
    "        print(f\"No book found with ID {book_id}.\")\n",
    "\n",
    "    def return_book(self, book_id):\n",
    "        for book in self.books:\n",
    "            if book.book_id == book_id:\n",
    "                if book.is_issued:\n",
    "                    book.is_issued = False\n",
    "                    print(f\"Book '{book.title}' has been returned.\")\n",
    "                else:\n",
    "                    print(f\"Book '{book.title}' was not issued.\")\n",
    "                return\n",
    "        print(f\"No book found with ID {book_id}.\")"
   ]
  },
  {
   "cell_type": "markdown",
   "id": "b71a4ae2",
   "metadata": {},
   "source": [
    "## 3. Create Library Instance and Add Books\n",
    "\n",
    "Let's create an instance of the `Library` class and add some books to it."
   ]
  },
  {
   "cell_type": "code",
   "execution_count": null,
   "id": "358008c9",
   "metadata": {},
   "outputs": [],
   "source": [
    "# Create a library instance\n",
    "library = Library()\n",
    "\n",
    "# Add some books\n",
    "book1 = Book(1, \"The Great Gatsby\", \"F. Scott Fitzgerald\")\n",
    "book2 = Book(2, \"To Kill a Mockingbird\", \"Harper Lee\")\n",
    "\n",
    "library.add_book(book1)\n",
    "library.add_book(book2)"
   ]
  },
  {
   "cell_type": "markdown",
   "id": "216465de",
   "metadata": {},
   "source": [
    "## 4. List All Books\n",
    "\n",
    "Now, let's display all books currently in the library."
   ]
  },
  {
   "cell_type": "code",
   "execution_count": null,
   "id": "78022399",
   "metadata": {},
   "outputs": [],
   "source": [
    "# List all books in the library\n",
    "library.list_books()"
   ]
  },
  {
   "cell_type": "markdown",
   "id": "687dfb23",
   "metadata": {},
   "source": [
    "## 5. Remove a Book\n",
    "\n",
    "We'll remove a book by its ID and then list the books again to verify that it has been removed."
   ]
  },
  {
   "cell_type": "code",
   "execution_count": null,
   "id": "57899afe",
   "metadata": {},
   "outputs": [],
   "source": [
    "# Remove a book by ID\n",
    "library.remove_book(1)\n",
    "\n",
    "# List books after removal\n",
    "library.list_books()"
   ]
  },
  {
   "cell_type": "markdown",
   "id": "85243d60",
   "metadata": {},
   "source": [
    "## 6. Issue and Return a Book\n",
    "\n",
    "Let's issue a book, check the status, return it, and check the status again."
   ]
  },
  {
   "cell_type": "code",
   "execution_count": null,
   "id": "60be133e",
   "metadata": {},
   "outputs": [],
   "source": [
    "# Issue a book\n",
    "library.issue_book(2)\n",
    "library.list_books()\n",
    "\n",
    "# Return the book\n",
    "library.return_book(2)\n",
    "library.list_books()"
   ]
  },
  {
   "cell_type": "markdown",
   "id": "37c92138",
   "metadata": {},
   "source": [
    "## 7. Add More Books and List Again\n",
    "\n",
    "Finally, let's add more books to the library and list all books to see the updated collection."
   ]
  },
  {
   "cell_type": "code",
   "execution_count": null,
   "id": "e9adf10f",
   "metadata": {},
   "outputs": [],
   "source": [
    "# Add more books\n",
    "book3 = Book(3, \"1984\", \"George Orwell\")\n",
    "book4 = Book(4, \"Pride and Prejudice\", \"Jane Austen\")\n",
    "\n",
    "library.add_book(book3)\n",
    "library.add_book(book4)\n",
    "\n",
    "# List all books to see the updated library\n",
    "library.list_books()"
   ]
  }
 ],
 "metadata": {
  "language_info": {
   "name": "python"
  }
 },
 "nbformat": 4,
 "nbformat_minor": 5
}
